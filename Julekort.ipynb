{
 "cells": [
  {
   "cell_type": "code",
   "execution_count": null,
   "metadata": {},
   "outputs": [],
   "source": [
    "# -*- coding: utf-8 -*-\n",
    "\"\"\"\n",
    "Prøv selv\n",
    "\"\"\"\n",
    "import turtle\n",
    "import random\n",
    "\n",
    "wn = turtle.Screen()\n",
    "wn.bgcolor(\"black\")\n",
    "wn.title(\"Bouncing ball simulator\")\n",
    "wn.tracer(0)\n",
    "\n",
    "balls = []\n",
    "\n",
    "for _ in range(25):\n",
    "    balls.append(turtle.Turtle())\n",
    "    \n",
    "colors = [\"red\", \"blue\", \"yellow\", \"orange\", \"green\", \"white\", \"purple\"]\n",
    "shapes = [\"circle\", \"triangle\", \"square\"]    \n",
    "    \n",
    "for ball in balls:\n",
    "    ball.shape(random.choice(shapes))\n",
    "    ball.color(random.choice(colors))\n",
    "    ball.penup()\n",
    "    ball.speed(0)\n",
    "    x = random.randint(-290, 290)\n",
    "    y = random.randint(200, 400)\n",
    "    ball.goto(x, y)\n",
    "    ball.dy = 0\n",
    "    ball.dx = random.randint(-3, 3)\n",
    "    ball.da = random.randint(-5, 5)\n",
    "\n",
    "gravity = 0.1\n",
    "\n",
    "while True:\n",
    "    wn.update()\n",
    "    \n",
    "    for ball in balls:\n",
    "        ball.rt(ball.da)      \n",
    "        ball.dy -= gravity\n",
    "        ball.sety(ball.ycor() + ball.dy)\n",
    "        \n",
    "        ball.setx(ball.xcor() + ball.dx)\n",
    "        \n",
    "        if ball.xcor() > 300:    # check for a wall collision\n",
    "            ball.dx *= -1\n",
    "            ball.da *= -1\n",
    "            \n",
    "        if ball.xcor() < -300:\n",
    "            ball.dx *= -1\n",
    "            ball.da *= -1                      \n",
    "      \n",
    "        if ball.ycor() < -300:    # check for a bounce\n",
    "            ball.sety(-300)\n",
    "            ball.dy *= -1\n",
    "            ball.da *= -1            \n",
    "\n",
    "wn.mainloop()\n"
   ]
  },
  {
   "cell_type": "code",
   "execution_count": null,
   "metadata": {},
   "outputs": [],
   "source": []
  }
 ],
 "metadata": {
  "kernelspec": {
   "display_name": "Python 3",
   "language": "python",
   "name": "python3"
  },
  "language_info": {
   "codemirror_mode": {
    "name": "ipython",
    "version": 3
   },
   "file_extension": ".py",
   "mimetype": "text/x-python",
   "name": "python",
   "nbconvert_exporter": "python",
   "pygments_lexer": "ipython3",
   "version": "3.7.4"
  }
 },
 "nbformat": 4,
 "nbformat_minor": 2
}
